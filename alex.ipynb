{
 "cells": [
  {
   "cell_type": "code",
   "execution_count": 5,
   "id": "a2552a5e",
   "metadata": {},
   "outputs": [
    {
     "name": "stdout",
     "output_type": "stream",
     "text": [
      "['=-=-=-=-=-=-=açougue:=-=-=-=-=-=-=', 'loja 1:', '1° dezena:  0.08 % de crescimento', '2° dezena:  -0.03 % de crescimento', 'loja 2:', '1° dezena:  0.2 % de crescimento', '2° dezena:  0.1 % de crescimento', 'loja 3:', '1° dezena:  -0.06 % de crescimento', '2° dezena:  -0.08 % de crescimento', 'loja 4:', '1° dezena:  0.0 % de crescimento', '2° dezena:  -0.14 % de crescimento', 'loja 5:', '1° dezena:  0.07 % de crescimento', '2° dezena:  0.11 % de crescimento', 'loja 6:', '1° dezena:  0.1 % de crescimento', '2° dezena:  -0.07 % de crescimento', 'loja 7:', '1° dezena:  0.03 % de crescimento', '2° dezena:  0.01 % de crescimento', '=-=-=-=-=-=-=frios:=-=-=-=-=-=-=', 'loja 1:', '1° dezena:  0.01 % de crescimento', '2° dezena:  0.06 % de crescimento', 'loja 2:', '1° dezena:  0.16 % de crescimento', '2° dezena:  0.15 % de crescimento', 'loja 3:', '1° dezena:  -0.05 % de crescimento', '2° dezena:  0.04 % de crescimento', 'loja 4:', '1° dezena:  0.0 % de crescimento', '2° dezena:  0.08 % de crescimento', 'loja 5:', '1° dezena:  0.1 % de crescimento', '2° dezena:  0.09 % de crescimento', 'loja 6:', '1° dezena:  -0.12 % de crescimento', '2° dezena:  -0.1 % de crescimento', 'loja 7:', '1° dezena:  0.06 % de crescimento', '2° dezena:  0.01 % de crescimento', '=-=-=-=-=-=-=auto serviço:=-=-=-=-=-=-=', 'loja 1:', '1° dezena:  -0.24 % de crescimento', '2° dezena:  -0.01 % de crescimento', 'loja 2:', '1° dezena:  0.1 % de crescimento', '2° dezena:  0.31 % de crescimento', 'loja 3:', '1° dezena:  -0.15 % de crescimento', '2° dezena:  0.02 % de crescimento', 'loja 4:', '1° dezena:  -0.15 % de crescimento', '2° dezena:  0.04 % de crescimento', 'loja 5:', '1° dezena:  0.07 % de crescimento', '2° dezena:  0.13 % de crescimento', 'loja 6:', '1° dezena:  -0.2 % de crescimento', '2° dezena:  -0.14 % de crescimento', 'loja 7:', '1° dezena:  -0.16 % de crescimento', '2° dezena:  -0.11 % de crescimento', '=-=-=-=-=-=-=mercearia:=-=-=-=-=-=-=', 'loja 1:', '1° dezena:  -0.02 % de crescimento', '2° dezena:  0.01 % de crescimento', 'loja 2:', '1° dezena:  0.12 % de crescimento', '2° dezena:  0.19 % de crescimento', 'loja 3:', '1° dezena:  -0.08 % de crescimento', '2° dezena:  -0.06 % de crescimento', 'loja 4:', '1° dezena:  -0.06 % de crescimento', '2° dezena:  0.03 % de crescimento', 'loja 5:', '1° dezena:  0.01 % de crescimento', '2° dezena:  0.1 % de crescimento', 'loja 6:', '1° dezena:  -0.16 % de crescimento', '2° dezena:  -0.1 % de crescimento', 'loja 7:', '1° dezena:  0.08 % de crescimento', '2° dezena:  0.07 % de crescimento']\n"
     ]
    }
   ],
   "source": [
    "from openpyxl import load_workbook\n",
    "from openpyxl.utils import get_column_letter\n",
    "from datetime import date\n",
    "\n",
    "def lecao(letras = ['v']):\n",
    "    wb = load_workbook('C:/Users/pdv/Desktop/plan.xlsx')\n",
    "    setores = [wb['açougue'],wb['frios'],wb['auto'],wb['mercearia']]\n",
    "    resultado = []\n",
    "    dia = date.today().day\n",
    "    for ws in setores:\n",
    "        setor = ws['s1'].value\n",
    "        resultado.append(f'=-=-=-=-=-=-={setor}=-=-=-=-=-=-=')\n",
    "        for i in letras:\n",
    "            resultado.append(f'{(ws[f\"{i}70\"].value)}')\n",
    "            if dia > 10:\n",
    "                resultado.append(f\"1° dezena:  {round(float(ws[f'{i}75'].value), 2)} % de crescimento\")\n",
    "            if dia > 20:\n",
    "                resultado.append(f\"2° dezena:  {round(float(ws[f'{i}81'].value),2)} % de crescimento\")\n",
    "            if dia > 30:\n",
    "                resultado.append(f\"3° dezena:  {round(float(ws[f'{i}87'].value),2)} % de crescimento\")\n",
    "                resultado.append(f\"Total:  {round(float(ws[f'{i}93'].value),2)} % de crescimento\")\n",
    "    return resultado\n",
    "\n",
    "\n",
    "def will(letras = ['l','m','n','o','p','q','r']):\n",
    "    wb = load_workbook('C:/Users/pdv/Desktop/plan.xlsx')\n",
    "    setores = [wb['açougue'],wb['frios'],wb['auto'],wb['mercearia']]\n",
    "    resultado = []\n",
    "    dia = date.today().day\n",
    "    for ws in setores:\n",
    "        setor = ws['s1'].value\n",
    "        resultado.append(f'=-=-=-=-=-=-={setor}=-=-=-=-=-=-=')\n",
    "        for i in letras:\n",
    "            resultado.append(f'{(ws[f\"{i}70\"].value)}')\n",
    "            if dia > 10:\n",
    "                resultado.append(f\"1° dezena:  {round(float(ws[f'{i}75'].value), 2)} % de crescimento\")\n",
    "            if dia > 20:\n",
    "                resultado.append(f\"2° dezena:  {round(float(ws[f'{i}81'].value),2)} % de crescimento\")\n",
    "            if dia > 30:\n",
    "                resultado.append(f\"3° dezena:  {round(float(ws[f'{i}87'].value),2)} % de crescimento\")\n",
    "                resultado.append(f\"Total:  {round(float(ws[f'{i}93'].value),2)} % de crescimento\")\n",
    "    return resultado\n",
    "\n",
    "\n",
    "if __name__ == '__main__':\n",
    "#     print(lecao())\n",
    "#     print(lecao(letras = ['u','v','w','x','y','z','aa']))\n",
    "    print(will())"
   ]
  },
  {
   "cell_type": "code",
   "execution_count": 1,
   "id": "400fd9da",
   "metadata": {},
   "outputs": [],
   "source": [
    "from openpyxl import load_workbook\n",
    "from openpyxl.utils import get_column_letter\n",
    "\n",
    "wb = load_workbook('C:/Users/pdv/Desktop/plan.xlsx')\n",
    "setores = [wb['açougue'],wb['frios'],wb['auto'],wb['mercearia']]\n",
    "pastas = ['F:/Arquivos/Arq_Gabriel/VENDA AÇOUGUE.xlsx','F:/Arquivos/Arq_Gabriel/VENDA FRIOS.xlsx',\n",
    "          'F:/Arquivos/Arq_Gabriel/VENDA AUTO SERVIÇO.xlsx','F:/Arquivos/Arq_Gabriel/VENDA MERCEARIA.xlsx']\n",
    "celulas = ['6','14','10','18']\n",
    "\n",
    "for i in range(4):\n",
    "    for j in range(4):\n",
    "        if i == j:\n",
    "            wbs = load_workbook(pastas[i]).active\n",
    "            ws = setores[j]\n",
    "            letras = ['c','d','e','f','g','h','i']\n",
    "            letters = ['b','c','d','e','f','g','h']\n",
    "            for x in letras:\n",
    "                wb['Plan3'][f'{letters[letras.index(x)]}{celulas[i]}'] = round(wbs[f'{x}34'].value)\n",
    "            for r in range(2,33):\n",
    "                for letra in letras:\n",
    "#                     print(ws[f'{letters[letras.index(letra)]}{r+68}'].value)\n",
    "                    ws[f'{letters[letras.index(letra)]}{r+68}'] = wbs[f'{letra}{r}'].value\n",
    "wb.save(filename = 'C:/Users/pdv/Desktop/plan.xlsx' )"
   ]
  },
  {
   "cell_type": "code",
   "execution_count": 4,
   "id": "588d5f64",
   "metadata": {},
   "outputs": [
    {
     "name": "stdout",
     "output_type": "stream",
     "text": [
      "11\n"
     ]
    }
   ],
   "source": [
    "from datetime import date\n",
    "dia = date.today().day\n",
    "print(dia)"
   ]
  },
  {
   "cell_type": "code",
   "execution_count": null,
   "id": "4cf6444d",
   "metadata": {},
   "outputs": [],
   "source": []
  }
 ],
 "metadata": {
  "kernelspec": {
   "display_name": "Python (bot)",
   "language": "python",
   "name": "bot"
  },
  "language_info": {
   "codemirror_mode": {
    "name": "ipython",
    "version": 3
   },
   "file_extension": ".py",
   "mimetype": "text/x-python",
   "name": "python",
   "nbconvert_exporter": "python",
   "pygments_lexer": "ipython3",
   "version": "3.9.7"
  }
 },
 "nbformat": 4,
 "nbformat_minor": 5
}
