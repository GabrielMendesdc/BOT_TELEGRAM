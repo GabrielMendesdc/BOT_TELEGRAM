{
 "cells": [
  {
   "cell_type": "code",
   "execution_count": 1,
   "id": "85e37831",
   "metadata": {},
   "outputs": [
    {
     "data": {
      "text/html": [
       "<style>.container { width:90% !important; }</style>"
      ],
      "text/plain": [
       "<IPython.core.display.HTML object>"
      ]
     },
     "metadata": {},
     "output_type": "display_data"
    }
   ],
   "source": [
    "from IPython.core.display import display, HTML\n",
    "display(HTML(\"<style>.container { width:90% !important; }</style>\"))"
   ]
  },
  {
   "cell_type": "code",
   "execution_count": null,
   "id": "585d4c4a",
   "metadata": {},
   "outputs": [
    {
     "name": "stdout",
     "output_type": "stream",
     "text": [
      "Digite a senha para conexão com o banco de dados:········\n",
      "passei pelo cod\n"
     ]
    }
   ],
   "source": [
    "import telebot #Biblioteca de criação do Bot Telegram\n",
    "from time import sleep \n",
    "from telebot.types import InlineKeyboardMarkup, InlineKeyboardButton #Biblioteca dos botões e markup\n",
    "import pymysql\n",
    "import getpass\n",
    "\n",
    "\n",
    "senha = getpass.getpass('Digite a senha para conexão com o banco de dados:')\n",
    "\n",
    "def checa_id(id_user0):\n",
    "    global senha\n",
    "    con = pymysql.connect(host='localhost', user='root', database='bot',password=senha, cursorclass=pymysql.cursors.DictCursor)\n",
    "    c = con.cursor()\n",
    "    sql = f'SELECT id_user FROM lojas WHERE id_user = {str(id_user0)}'\n",
    "    c.execute(sql)\n",
    "    resultado = c.fetchall() #Retorna todas os itens obtidas pela consulta na tabela\n",
    "    c.close()\n",
    "    con.close() # Desconectar do servidor\n",
    "    return resultado\n",
    "    \n",
    "        \n",
    "def uma_linha(nome_arquivo):\n",
    "    with open (f'C:/Users/pdv/Desktop/gabriel/{nome_arquivo}', 'a+') as arquivo:\n",
    "        for linha in arquivo:\n",
    "            return linha        \n",
    "\n",
    "            \n",
    "chaveapi = uma_linha('novachave.txt')      \n",
    "\n",
    "bot = telebot.TeleBot(chaveapi) #Cria uma instância do bot\n",
    "\n",
    "\n",
    "def faz_botao(dicionario): #Função pra criar os botões de resposta\n",
    "    markup = InlineKeyboardMarkup() #inicia o markup (marcação)\n",
    "    for botao, retorno in dicionario.items(): #Desempacota os botões e seus retornos do dicionário\n",
    "        markup.add(InlineKeyboardButton(str(botao), callback_data=str(retorno))) #cria o botão dentro do markup\n",
    "    return markup #retorna o markup\n",
    "    \n",
    "    \n",
    "def salva_banco(nome, id_, escolha):\n",
    "    global senha\n",
    "    resultado = checa_id(id_)\n",
    "    if not id_ in resultado:\n",
    "        con = pymysql.connect(host='localhost', user='root', database='bot',password=senha, cursorclass=pymysql.cursors.DictCursor) #Inicia a conexão com o BD\n",
    "        c = con.cursor() #Instancia o cursor do db\n",
    "        sql = f'INSERT INTO lojas (nome, id_user, {escolha}) VALUES (%s,%s,%s)'\n",
    "        dados = (nome, id_, 1)\n",
    "        c.execute(sql,dados)\n",
    "        con.commit() #Lança as alterações no BD\n",
    "        c.close() #Fecha cursor\n",
    "        con.close() #Fecha conexão\n",
    "    else:\n",
    "        pass\n",
    "    \n",
    "@bot.message_handler(commands=[\"notas\"]) #Decorador que cuida do comando /notas\n",
    "def notas(mensagem):\n",
    "    id_ = mensagem.chat.id #O id é uma parte da estrutura aninhada da mensagem ({'content_type': 'text', 'id': 9, 'message_id': 9,'from_user': {'id': 945441763, 'is_bot': False, 'first_name': 'Gbr', 'username': 'Gbrdoidao', 'last_name': 'Doidao', 'language_code': 'pt-br', 'can_join_groups': None, 'can_read_all_group_messages': None, 'supports_inline_queries': None}, 'date': 1649940793,'chat': {'id': 945441763, 'type': 'private', 'title': None, 'username': 'Gbrdoidao', 'first_name': 'Gbr', 'last_name': 'Doidao', 'photo': None, 'bio': None, 'description': None, 'invite_link': None, 'pinned_message': None, 'permissions': None, 'slow_mode_delay': None, 'message_auto_delete_time': None, 'sticker_set_name': None, 'can_set_sticker_set': None, 'linked_chat_id': None, 'location': None},'sender_chat': None, 'forward_from': None, 'forward_from_chat': None, 'forward_from_message_id': None, 'forward_signature': None, 'forward_sender_name': None, 'forward_date': None, 'reply_to_message': None, 'via_bot': None, 'edit_date': None, 'media_group_id': None, 'author_signature': None, 'text': 'ao', 'entities': None, 'caption_entities': None, 'audio': None, 'document': None, 'photo': None, 'sticker': None, 'video': None, 'video_note': None, 'voice': None, 'caption': None, 'contact': None, 'location': None, 'venue': None, 'animation': None, 'dice': None, 'new_chat_member': None, 'new_chat_members': None, 'left_chat_member': None, 'new_chat_title': None, 'new_chat_photo': None, 'delete_chat_photo': None, 'group_chat_created': None, 'supergroup_chat_created': None, 'channel_chat_created': None, 'migrate_to_chat_id': None, 'migrate_from_chat_id': None, 'pinned_message': None, 'invoice': None, 'successful_payment': None, 'connected_website': None, 'reply_markup': None, 'json': {'message_id': 9, 'from': {'id': 945441763, 'is_bot': False, 'first_name': 'Gbr', 'last_name': 'Doidao', 'username': 'Gbrdoidao', 'language_code': 'pt-br'}, 'chat': {'id': 945441763, 'first_name': 'Gbr', 'last_name': 'Doidao', 'username': 'Gbrdoidao', 'type': 'private'}, 'date': 1649940793, 'text': 'ao'}})\n",
    "    fornecedor = mensagem.text[7:] #Pega a parte importante da mensagem (sem o /notas )\n",
    "    print(mensagem.from_user.username,' pesquisou notas do ', fornecedor)\n",
    "    dicio_pdf = {'Preço Notas':'preconf','Nota em PDF':'pdf'} #Botão pdf / preço {'nome_botão':'retorno do botão'}\n",
    "    dicio_lojas = {'LJ1 - Guanabara' : 'lj1' ,'LJ2 - Primavera' : 'lj2','LJ3 - Iguatemi' : 'lj3','LJ4 - Flamboyant' : 'lj4', 'LJ5 - São Paulo' : 'lj5','LJ6 - Valinhos' : 'lj6',\n",
    "                   'LJ7 - Ouro Verde' : 'lj7', 'ESCOLHIDO' : 'escolheu'} #Botões das lojas e seus retornos \n",
    "    bot.send_message(id_, ' Qual vc prefere? ' ,reply_markup=faz_botao(dicio_pdf)) #Cria o botão pro escolher entre PDF e meu preço\n",
    "    bot.send_message(id_, ' LOJAS: ' ,reply_markup=faz_botao(dicio_lojas)) #Cria o botão pro escolher entre PDF e meu preço\n",
    "    bot.reply_to(mensagem, 'pronto ;)') #Mensagem pra mostrar que deu certo\n",
    "    \n",
    "\n",
    "@bot.message_handler(func=lambda message: True) #Decorador que cuida de mensagens (não comandos)\n",
    "def resposta(mensagem):\n",
    "    print('falou cmg')\n",
    "    texto = '''Olá! Seja bem vindo ao Fartura Bot  \n",
    "    Estes são os meus Comandos:\n",
    "    =-=-=-=-=-=-=-=-=-=-=-=-=-=-=-=-=-=-=-=-=-=-=''' #Mensagem padrão de resposta\n",
    "    bot.reply_to(mensagem, texto) #Responde a mensagem dele com o texto padrão\n",
    "    \n",
    "    \n",
    "@bot.callback_query_handler(func=lambda call: True)\n",
    "def handle_query(chamado):\n",
    "    nome = chamado.message.from_user.username\n",
    "    id_ = chamado.message.chat.id\n",
    "    retorno = chamado.data\n",
    "    print(retorno)\n",
    "    if retorno.startswith('lj'):\n",
    "        print(f'loja {retorno} added')\n",
    "        salva_banco(nome, id_, retorno)\n",
    "        print(escolhas)\n",
    "    elif retorno.startswith('escolheu'):\n",
    "        print(escolhas)\n",
    "#         lojas_escolhidas = []\n",
    "    \n",
    "print('passei pelo cod')    \n",
    "while True:\n",
    "    try:\n",
    "        bot.polling(none_stop=True, interval=0, timeout=0) #Mantém o bot rodando infinitamente\n",
    "    except:\n",
    "        sleep(10) #se der erro ele espera 10 segundos\n"
   ]
  },
  {
   "cell_type": "code",
   "execution_count": 1,
   "id": "7280480e",
   "metadata": {},
   "outputs": [
    {
     "name": "stderr",
     "output_type": "stream",
     "text": [
      "ERROR:root:No traceback has been produced, nothing to debug.\n"
     ]
    }
   ],
   "source": []
  },
  {
   "cell_type": "code",
   "execution_count": 4,
   "id": "52b1832e",
   "metadata": {},
   "outputs": [
    {
     "name": "stdout",
     "output_type": "stream",
     "text": [
      "Digite a senha para conexão com o banco de dados:········\n",
      "ok\n"
     ]
    }
   ],
   "source": [
    "import pymysql\n",
    "import getpass\n",
    "from time import sleep\n",
    "\n",
    "\n",
    "senha = getpass.getpass('Digite a senha para conexão com o banco de dados:')\n",
    "con = pymysql.connect(host='localhost', user='root', database='bot',password=senha, cursorclass=pymysql.cursors.DictCursor)\n",
    "# Preparar um cursor com o método .cursor()\n",
    "c = con.cursor()\n",
    "# sql = 'DROP TABLE lojas'\n",
    "# c.execute(sql)\n",
    "\n",
    "# sql = 'CREATE TABLE lojas (id INT AUTO_INCREMENT PRIMARY KEY, Nome VARCHAR(30) NOT NULL, id_user VARCHAR(30) NOT NULL, Lj1 BIT DEFAULT(0) NOT NULL, Lj2 BIT DEFAULT(0) NOT NULL, \\\n",
    "# Lj3 BIT DEFAULT(0) NOT NULL, Lj4 BIT DEFAULT(0) NOT NULL, Lj5 BIT DEFAULT(0) NOT NULL, Lj6 BIT DEFAULT(0) NOT NULL, Lj7 BIT DEFAULT(0) NOT NULL, Pdf BIT DEFAULT(0) NOT NULL)'\n",
    "# c.execute(sql)\n",
    "sql = f'INSERT INTO lojas (nome, id_user, Pdf) VALUES (%s,%s,%s)'\n",
    "dados = ('gabriel', 1010192920102, 1)\n",
    "c.execute(sql,dados)\n",
    "con.commit()\n",
    "print('ok')\n",
    "c.close()\n",
    "con.close()"
   ]
  },
  {
   "cell_type": "code",
   "execution_count": null,
   "id": "23b64580",
   "metadata": {},
   "outputs": [],
   "source": []
  }
 ],
 "metadata": {
  "kernelspec": {
   "display_name": "Python (bot)",
   "language": "python",
   "name": "bot"
  },
  "language_info": {
   "codemirror_mode": {
    "name": "ipython",
    "version": 3
   },
   "file_extension": ".py",
   "mimetype": "text/x-python",
   "name": "python",
   "nbconvert_exporter": "python",
   "pygments_lexer": "ipython3",
   "version": "3.9.7"
  }
 },
 "nbformat": 4,
 "nbformat_minor": 5
}
